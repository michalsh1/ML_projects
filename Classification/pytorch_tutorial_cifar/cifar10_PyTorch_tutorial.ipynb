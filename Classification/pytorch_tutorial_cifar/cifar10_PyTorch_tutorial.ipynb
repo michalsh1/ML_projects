{
 "cells": [
  {
   "cell_type": "markdown",
   "metadata": {},
   "source": [
    "# PyTorch Classification tutorial CIFAR-10 "
   ]
  },
  {
   "cell_type": "markdown",
   "metadata": {},
   "source": [
    "based on https://pytorch.org/tutorials/beginner/blitz/cifar10_tutorial.html"
   ]
  },
  {
   "cell_type": "markdown",
   "metadata": {},
   "source": [
    "\n",
    "# Training a Classifier\n",
    "\n",
    "This is it. You have seen how to define neural networks, compute loss and make\n",
    "updates to the weights of the network.\n",
    "\n",
    "Now you might be thinking,\n",
    "\n",
    "## What about data?\n",
    "\n",
    "Generally, when you have to deal with image, text, audio or video data,\n",
    "you can use standard python packages that load data into a numpy array.\n",
    "Then you can convert this array into a ``torch.*Tensor``.\n",
    "\n",
    "-  For images, packages such as Pillow, OpenCV are useful\n",
    "-  For audio, packages such as scipy and librosa\n",
    "-  For text, either raw Python or Cython based loading, or NLTK and\n",
    "   SpaCy are useful\n",
    "\n",
    "Specifically for vision, we have created a package called\n",
    "``torchvision``, that has data loaders for common datasets such as\n",
    "ImageNet, CIFAR10, MNIST, etc. and data transformers for images, viz.,\n",
    "``torchvision.datasets`` and ``torch.utils.data.DataLoader``.\n",
    "\n",
    "This provides a huge convenience and avoids writing boilerplate code.\n",
    "\n",
    "For this tutorial, we will use the CIFAR10 dataset.\n",
    "It has the classes: ‘airplane’, ‘automobile’, ‘bird’, ‘cat’, ‘deer’,\n",
    "‘dog’, ‘frog’, ‘horse’, ‘ship’, ‘truck’. The images in CIFAR-10 are of\n",
    "size 3x32x32, i.e. 3-channel color images of 32x32 pixels in size.\n",
    "\n",
    ".. figure:: /_static/img/cifar10.png\n",
    "   :alt: cifar10\n",
    "\n",
    "   cifar10\n",
    "\n",
    "\n",
    "## Training an image classifier\n",
    "\n",
    "We will do the following steps in order:\n",
    "\n",
    "1. Load and normalize the CIFAR10 training and test datasets using\n",
    "   ``torchvision``\n",
    "2. Define a Convolutional Neural Network\n",
    "3. Define a loss function\n",
    "4. Train the network on the training data\n",
    "5. Test the network on the test data\n",
    "\n",
    "### 1. Load and normalize CIFAR10\n",
    "\n",
    "Using ``torchvision``, it’s extremely easy to load CIFAR10.\n"
   ]
  },
  {
   "cell_type": "code",
   "execution_count": 1,
   "metadata": {},
   "outputs": [],
   "source": [
    "import torch\n",
    "import torchvision\n",
    "import torchvision.transforms as transforms"
   ]
  },
  {
   "cell_type": "markdown",
   "metadata": {},
   "source": [
    "The output of torchvision datasets are PILImage images of range [0, 1].\n",
    "We transform them to Tensors of normalized range [-1, 1].\n",
    "\n"
   ]
  },
  {
   "cell_type": "markdown",
   "metadata": {},
   "source": [
    "<div class=\"alert alert-info\"><h4>Note</h4><p>If running on Windows and you get a BrokenPipeError, try setting\n",
    "    the num_worker of torch.utils.data.DataLoader() to 0.</p></div>\n",
    "\n"
   ]
  },
  {
   "cell_type": "code",
   "execution_count": 2,
   "metadata": {},
   "outputs": [
    {
     "name": "stdout",
     "output_type": "stream",
     "text": [
      "Files already downloaded and verified\n",
      "Files already downloaded and verified\n"
     ]
    }
   ],
   "source": [
    "transform = transforms.Compose(\n",
    "    [transforms.ToTensor(),\n",
    "     transforms.Normalize((0.5, 0.5, 0.5), (0.5, 0.5, 0.5))])\n",
    "\n",
    "batch_size = 4\n",
    "\n",
    "trainset = torchvision.datasets.CIFAR10(root='./data', train=True,\n",
    "                                        download=True, transform=transform)\n",
    "trainloader = torch.utils.data.DataLoader(trainset, batch_size=batch_size,\n",
    "                                          shuffle=True, num_workers=2)\n",
    "\n",
    "testset = torchvision.datasets.CIFAR10(root='./data', train=False,\n",
    "                                       download=True, transform=transform)\n",
    "testloader = torch.utils.data.DataLoader(testset, batch_size=batch_size,\n",
    "                                         shuffle=False, num_workers=2)\n",
    "\n",
    "classes = ('plane', 'car', 'bird', 'cat',\n",
    "           'deer', 'dog', 'frog', 'horse', 'ship', 'truck')"
   ]
  },
  {
   "cell_type": "markdown",
   "metadata": {},
   "source": [
    "Let us show some of the training images, for fun.\n",
    "\n"
   ]
  },
  {
   "cell_type": "code",
   "execution_count": 3,
   "metadata": {},
   "outputs": [
    {
     "data": {
      "image/png": "[encoded data removed]",
      "text/plain": [
       "<Figure size 640x480 with 1 Axes>"
      ]
     },
     "metadata": {},
     "output_type": "display_data"
    },
    {
     "name": "stdout",
     "output_type": "stream",
     "text": [
      "ship  car   dog   cat  \n"
     ]
    }
   ],
   "source": [
    "import matplotlib.pyplot as plt\n",
    "import numpy as np\n",
    "\n",
    "# functions to show an image\n",
    "\n",
    "\n",
    "def imshow(img):\n",
    "    img = img / 2 + 0.5     # unnormalize\n",
    "    npimg = img.numpy()\n",
    "    plt.imshow(np.transpose(npimg, (1, 2, 0)))\n",
    "    plt.show()\n",
    "\n",
    "\n",
    "# get some random training images\n",
    "dataiter = iter(trainloader)\n",
    "images, labels = next(dataiter)\n",
    "\n",
    "# show images\n",
    "imshow(torchvision.utils.make_grid(images))\n",
    "# print labels\n",
    "print(' '.join(f'{classes[labels[j]]:5s}' for j in range(batch_size)))"
   ]
  },
  {
   "cell_type": "markdown",
   "metadata": {},
   "source": [
    "### 2. Define a Convolutional Neural Network\n",
    "Copy the neural network from the Neural Networks section before and modify it to\n",
    "take 3-channel images (instead of 1-channel images as it was defined).\n",
    "\n"
   ]
  },
  {
   "cell_type": "code",
   "execution_count": 4,
   "metadata": {},
   "outputs": [],
   "source": [
    "import torch.nn as nn\n",
    "import torch.nn.functional as F\n",
    "\n",
    "\n",
    "class Net(nn.Module):\n",
    "    def __init__(self):\n",
    "        super().__init__()\n",
    "        self.conv1 = nn.Conv2d(3, 6, 5)\n",
    "        self.pool = nn.MaxPool2d(2, 2)\n",
    "        self.conv2 = nn.Conv2d(6, 16, 5)\n",
    "        self.fc1 = nn.Linear(16 * 5 * 5, 120)\n",
    "        self.fc2 = nn.Linear(120, 84)\n",
    "        self.fc3 = nn.Linear(84, 10)\n",
    "\n",
    "    def forward(self, x):\n",
    "        x = self.pool(F.relu(self.conv1(x)))\n",
    "        x = self.pool(F.relu(self.conv2(x)))\n",
    "        x = torch.flatten(x, 1) # flatten all dimensions except batch\n",
    "        x = F.relu(self.fc1(x))\n",
    "        x = F.relu(self.fc2(x))\n",
    "        x = self.fc3(x)\n",
    "        return x\n",
    "\n",
    "\n",
    "# net = Net() on CPU"
   ]
  },
  {
   "cell_type": "markdown",
   "metadata": {},
   "source": [
    "\n",
    "## Training on GPU\n",
    "Just like how you transfer a Tensor onto the GPU, you transfer the neural\n",
    "net onto the GPU.\n",
    "\n",
    "Let's first define our device as the first visible cuda device if we have\n",
    "CUDA available:\n",
    "\n"
   ]
  },
  {
   "cell_type": "code",
   "execution_count": 5,
   "metadata": {},
   "outputs": [
    {
     "name": "stdout",
     "output_type": "stream",
     "text": [
      "cuda:0\n"
     ]
    }
   ],
   "source": [
    "device = torch.device('cuda:0' if torch.cuda.is_available() else 'cpu')\n",
    "\n",
    "# Assuming that we are on a CUDA machine, this should print a CUDA device:\n",
    "\n",
    "print(device)\n",
    "\n"
   ]
  },
  {
   "cell_type": "code",
   "execution_count": 6,
   "metadata": {},
   "outputs": [],
   "source": [
    "net = Net().to(device)"
   ]
  },
  {
   "cell_type": "markdown",
   "metadata": {},
   "source": [
    "### 3. Define a Loss function and optimizer\n",
    "Let's use a Classification Cross-Entropy loss and SGD with momentum.\n",
    "\n"
   ]
  },
  {
   "cell_type": "code",
   "execution_count": 7,
   "metadata": {},
   "outputs": [],
   "source": [
    "import torch.optim as optim\n",
    "\n",
    "criterion = nn.CrossEntropyLoss()\n",
    "optimizer = optim.SGD(net.parameters(), lr=0.001, momentum=0.9)"
   ]
  },
  {
   "cell_type": "markdown",
   "metadata": {},
   "source": [
    "### 4. Train the network\n",
    "\n",
    "This is when things start to get interesting.\n",
    "We simply have to loop over our data iterator, and feed the inputs to the\n",
    "network and optimize.\n",
    "\n"
   ]
  },
  {
   "cell_type": "code",
   "execution_count": 8,
   "metadata": {},
   "outputs": [
    {
     "name": "stdout",
     "output_type": "stream",
     "text": [
      "epoch:  0\n",
      "[1,  2000] loss: 2.213\n",
      "[1,  4000] loss: 1.878\n",
      "[1,  6000] loss: 1.681\n",
      "[1,  8000] loss: 1.583\n",
      "[1, 10000] loss: 1.500\n",
      "[1, 12000] loss: 1.453\n",
      "epoch:  1\n",
      "[2,  2000] loss: 1.393\n",
      "[2,  4000] loss: 1.373\n",
      "[2,  6000] loss: 1.339\n",
      "[2,  8000] loss: 1.311\n",
      "[2, 10000] loss: 1.323\n",
      "[2, 12000] loss: 1.269\n",
      "epoch:  2\n",
      "[3,  2000] loss: 1.225\n",
      "[3,  4000] loss: 1.202\n",
      "[3,  6000] loss: 1.212\n",
      "[3,  8000] loss: 1.193\n",
      "[3, 10000] loss: 1.171\n",
      "[3, 12000] loss: 1.189\n",
      "epoch:  3\n",
      "[4,  2000] loss: 1.086\n",
      "[4,  4000] loss: 1.102\n",
      "[4,  6000] loss: 1.108\n",
      "[4,  8000] loss: 1.123\n",
      "[4, 10000] loss: 1.102\n",
      "[4, 12000] loss: 1.102\n",
      "epoch:  4\n",
      "[5,  2000] loss: 0.995\n",
      "[5,  4000] loss: 1.027\n",
      "[5,  6000] loss: 1.034\n",
      "[5,  8000] loss: 1.039\n",
      "[5, 10000] loss: 1.023\n",
      "[5, 12000] loss: 1.046\n",
      "epoch:  5\n",
      "[6,  2000] loss: 0.925\n",
      "[6,  4000] loss: 0.971\n",
      "[6,  6000] loss: 0.974\n",
      "[6,  8000] loss: 0.984\n",
      "[6, 10000] loss: 0.993\n",
      "[6, 12000] loss: 0.994\n",
      "epoch:  6\n",
      "[7,  2000] loss: 0.894\n",
      "[7,  4000] loss: 0.918\n",
      "[7,  6000] loss: 0.949\n",
      "[7,  8000] loss: 0.916\n",
      "[7, 10000] loss: 0.927\n",
      "[7, 12000] loss: 0.964\n",
      "epoch:  7\n",
      "[8,  2000] loss: 0.831\n",
      "[8,  4000] loss: 0.879\n",
      "[8,  6000] loss: 0.881\n",
      "[8,  8000] loss: 0.903\n",
      "[8, 10000] loss: 0.909\n",
      "[8, 12000] loss: 0.900\n",
      "epoch:  8\n",
      "[9,  2000] loss: 0.789\n",
      "[9,  4000] loss: 0.820\n",
      "[9,  6000] loss: 0.854\n",
      "[9,  8000] loss: 0.878\n",
      "[9, 10000] loss: 0.881\n",
      "[9, 12000] loss: 0.889\n",
      "epoch:  9\n",
      "[10,  2000] loss: 0.775\n",
      "[10,  4000] loss: 0.779\n",
      "[10,  6000] loss: 0.834\n",
      "[10,  8000] loss: 0.832\n",
      "[10, 10000] loss: 0.861\n",
      "[10, 12000] loss: 0.873\n",
      "epoch:  10\n",
      "[11,  2000] loss: 0.746\n",
      "[11,  4000] loss: 0.786\n",
      "[11,  6000] loss: 0.797\n",
      "[11,  8000] loss: 0.792\n",
      "[11, 10000] loss: 0.832\n",
      "[11, 12000] loss: 0.855\n",
      "epoch:  11\n",
      "[12,  2000] loss: 0.721\n",
      "[12,  4000] loss: 0.761\n",
      "[12,  6000] loss: 0.771\n",
      "[12,  8000] loss: 0.793\n",
      "[12, 10000] loss: 0.795\n",
      "[12, 12000] loss: 0.826\n",
      "epoch:  12\n",
      "[13,  2000] loss: 0.715\n",
      "[13,  4000] loss: 0.726\n",
      "[13,  6000] loss: 0.756\n",
      "[13,  8000] loss: 0.750\n",
      "[13, 10000] loss: 0.791\n",
      "[13, 12000] loss: 0.791\n",
      "epoch:  13\n",
      "[14,  2000] loss: 0.666\n",
      "[14,  4000] loss: 0.703\n",
      "[14,  6000] loss: 0.728\n",
      "[14,  8000] loss: 0.744\n",
      "[14, 10000] loss: 0.761\n",
      "[14, 12000] loss: 0.778\n",
      "epoch:  14\n",
      "[15,  2000] loss: 0.655\n",
      "[15,  4000] loss: 0.702\n",
      "[15,  6000] loss: 0.704\n",
      "[15,  8000] loss: 0.751\n",
      "[15, 10000] loss: 0.747\n",
      "[15, 12000] loss: 0.755\n",
      "epoch:  15\n",
      "[16,  2000] loss: 0.652\n",
      "[16,  4000] loss: 0.675\n",
      "[16,  6000] loss: 0.705\n",
      "[16,  8000] loss: 0.727\n",
      "[16, 10000] loss: 0.749\n",
      "[16, 12000] loss: 0.771\n",
      "epoch:  16\n",
      "[17,  2000] loss: 0.623\n",
      "[17,  4000] loss: 0.685\n",
      "[17,  6000] loss: 0.674\n",
      "[17,  8000] loss: 0.719\n",
      "[17, 10000] loss: 0.721\n",
      "[17, 12000] loss: 0.746\n",
      "epoch:  17\n",
      "[18,  2000] loss: 0.605\n",
      "[18,  4000] loss: 0.644\n",
      "[18,  6000] loss: 0.674\n",
      "[18,  8000] loss: 0.693\n",
      "[18, 10000] loss: 0.720\n",
      "[18, 12000] loss: 0.720\n",
      "epoch:  18\n",
      "[19,  2000] loss: 0.601\n",
      "[19,  4000] loss: 0.649\n",
      "[19,  6000] loss: 0.681\n",
      "[19,  8000] loss: 0.719\n",
      "[19, 10000] loss: 0.708\n",
      "[19, 12000] loss: 0.720\n",
      "epoch:  19\n",
      "[20,  2000] loss: 0.597\n",
      "[20,  4000] loss: 0.620\n",
      "[20,  6000] loss: 0.659\n",
      "[20,  8000] loss: 0.675\n",
      "[20, 10000] loss: 0.702\n",
      "[20, 12000] loss: 0.729\n",
      "Finished Training\n"
     ]
    }
   ],
   "source": [
    "num_epochs = 20\n",
    "\n",
    "for epoch in range(num_epochs):  # loop over the dataset multiple times\n",
    "    print('epoch: ', epoch)\n",
    "    running_loss = 0.0\n",
    "    for i, data in enumerate(trainloader, 0):        \n",
    "        # get the inputs; data is a list of [inputs, labels]\n",
    "#         inputs, labels = data ### on CPU\n",
    "        inputs, labels = data[0].to(device), data[1].to(device) ### on GPU \n",
    "    \n",
    "        # zero the parameter gradients\n",
    "        optimizer.zero_grad()\n",
    "\n",
    "        # forward + backward + optimize\n",
    "        outputs = net(inputs)\n",
    "        loss = criterion(outputs, labels)\n",
    "        loss.backward()\n",
    "        optimizer.step()\n",
    "\n",
    "        # print statistics\n",
    "        running_loss += loss.item()\n",
    "        if i % 2000 == 1999:    # print every 2000 mini-batches\n",
    "            print(f'[{epoch + 1}, {i + 1:5d}] loss: {running_loss / 2000:.3f}')\n",
    "            running_loss = 0.0\n",
    "\n",
    "print('Finished Training')"
   ]
  },
  {
   "cell_type": "markdown",
   "metadata": {},
   "source": [
    "Let's quickly save our trained model:\n",
    "\n"
   ]
  },
  {
   "cell_type": "code",
   "execution_count": 12,
   "metadata": {},
   "outputs": [],
   "source": [
    "PATH = './cifar_net.pth'\n",
    "torch.save(net.state_dict(), PATH)"
   ]
  },
  {
   "cell_type": "markdown",
   "metadata": {},
   "source": [
    "See [here](https://pytorch.org/docs/stable/notes/serialization.html)\n",
    "for more details on saving PyTorch models.\n",
    "\n",
    "### 5. Test the network on the test data\n",
    "\n",
    "We have trained the network for 2 passes over the training dataset.\n",
    "But we need to check if the network has learnt anything at all.\n",
    "\n",
    "We will check this by predicting the class label that the neural network\n",
    "outputs, and checking it against the ground-truth. If the prediction is\n",
    "correct, we add the sample to the list of correct predictions.\n",
    "\n",
    "Okay, first step. Let us display an image from the test set to get familiar.\n",
    "\n"
   ]
  },
  {
   "cell_type": "code",
   "execution_count": 13,
   "metadata": {},
   "outputs": [
    {
     "data": {
      "image/png": "[encoded data removed]",
      "text/plain": [
       "<Figure size 640x480 with 1 Axes>"
      ]
     },
     "metadata": {},
     "output_type": "display_data"
    },
    {
     "name": "stdout",
     "output_type": "stream",
     "text": [
      "GroundTruth:  cat   ship  ship  plane\n"
     ]
    }
   ],
   "source": [
    "dataiter = iter(testloader)\n",
    "images, labels = next(dataiter)\n",
    "\n",
    "# print images\n",
    "imshow(torchvision.utils.make_grid(images))\n",
    "print('GroundTruth: ', ' '.join(f'{classes[labels[j]]:5s}' for j in range(4)))"
   ]
  },
  {
   "cell_type": "markdown",
   "metadata": {},
   "source": [
    "Next, let's load back in our saved model (note: saving and re-loading the model\n",
    "wasn't necessary here, we only did it to illustrate how to do so):\n",
    "\n"
   ]
  },
  {
   "cell_type": "code",
   "execution_count": 16,
   "metadata": {},
   "outputs": [
    {
     "data": {
      "text/plain": [
       "tensor([[-1.4402, -0.7864, -0.2518,  2.3005, -0.5970,  0.6850,  1.0467, -1.3344,\n",
       "         -1.0641,  0.9697],\n",
       "        [ 7.4018,  4.9476,  1.0110, -7.2085, -2.3479, -5.1698, -7.6738, -4.8702,\n",
       "          9.3824,  3.3985],\n",
       "        [ 0.9842,  1.2493,  0.0146, -1.8771, -0.2395,  0.6206, -3.8440, -0.0456,\n",
       "          1.3816,  0.3443],\n",
       "        [ 5.0992,  2.9213,  0.1653, -4.5507, -1.7022, -3.9001, -5.9153, -0.1374,\n",
       "          4.4713,  1.4753]], grad_fn=<AddmmBackward0>)"
      ]
     },
     "execution_count": 16,
     "metadata": {},
     "output_type": "execute_result"
    }
   ],
   "source": [
    "net = Net()\n",
    "net.load_state_dict(torch.load(PATH))\n",
    "\n",
    "net(images)"
   ]
  },
  {
   "cell_type": "markdown",
   "metadata": {},
   "source": [
    "Okay, now let us see what the neural network thinks these examples above are:\n",
    "\n"
   ]
  },
  {
   "cell_type": "code",
   "execution_count": 17,
   "metadata": {},
   "outputs": [],
   "source": [
    "outputs = net(images)"
   ]
  },
  {
   "cell_type": "markdown",
   "metadata": {},
   "source": [
    "The outputs are energies for the 10 classes.\n",
    "The higher the energy for a class, the more the network\n",
    "thinks that the image is of the particular class.\n",
    "So, let's get the index of the highest energy:\n",
    "\n"
   ]
  },
  {
   "cell_type": "code",
   "execution_count": 18,
   "metadata": {},
   "outputs": [
    {
     "name": "stdout",
     "output_type": "stream",
     "text": [
      "Predicted:  cat   ship  ship  plane\n"
     ]
    }
   ],
   "source": [
    "_, predicted = torch.max(outputs, 1)\n",
    "\n",
    "print('Predicted: ', ' '.join(f'{classes[predicted[j]]:5s}'\n",
    "                              for j in range(4)))"
   ]
  },
  {
   "cell_type": "markdown",
   "metadata": {},
   "source": [
    "The results seem pretty good.\n",
    "\n",
    "Let us look at how the network performs on the whole dataset.\n",
    "\n"
   ]
  },
  {
   "cell_type": "code",
   "execution_count": 19,
   "metadata": {},
   "outputs": [
    {
     "name": "stdout",
     "output_type": "stream",
     "text": [
      "Accuracy of the network on the 10000 test images: 60 %\n"
     ]
    }
   ],
   "source": [
    "correct = 0\n",
    "total = 0\n",
    "# since we're not training, we don't need to calculate the gradients for our outputs\n",
    "with torch.no_grad():\n",
    "    for data in testloader:\n",
    "        images, labels = data\n",
    "        # calculate outputs by running images through the network\n",
    "        outputs = net(images)\n",
    "        # the class with the highest energy is what we choose as prediction\n",
    "        _, predicted = torch.max(outputs.data, 1)\n",
    "        total += labels.size(0)\n",
    "        correct += (predicted == labels).sum().item()\n",
    "\n",
    "print(f'Accuracy of the network on the 10000 test images: {100 * correct // total} %')"
   ]
  },
  {
   "cell_type": "markdown",
   "metadata": {},
   "source": [
    "That looks way better than chance, which is 10% accuracy (randomly picking\n",
    "a class out of 10 classes).\n",
    "Seems like the network learnt something.\n",
    "\n",
    "Hmmm, what are the classes that performed well, and the classes that did\n",
    "not perform well:\n",
    "\n"
   ]
  },
  {
   "cell_type": "code",
   "execution_count": 20,
   "metadata": {},
   "outputs": [
    {
     "name": "stdout",
     "output_type": "stream",
     "text": [
      "Accuracy for class: plane is 63.4 %\n",
      "Accuracy for class: car   is 69.2 %\n",
      "Accuracy for class: bird  is 47.7 %\n",
      "Accuracy for class: cat   is 42.1 %\n",
      "Accuracy for class: deer  is 54.7 %\n",
      "Accuracy for class: dog   is 47.6 %\n",
      "Accuracy for class: frog  is 72.6 %\n",
      "Accuracy for class: horse is 66.7 %\n",
      "Accuracy for class: ship  is 73.1 %\n",
      "Accuracy for class: truck is 70.0 %\n"
     ]
    }
   ],
   "source": [
    "# prepare to count predictions for each class\n",
    "correct_pred = {classname: 0 for classname in classes}\n",
    "total_pred = {classname: 0 for classname in classes}\n",
    "\n",
    "# again no gradients needed\n",
    "with torch.no_grad():\n",
    "    for data in testloader:\n",
    "        images, labels = data\n",
    "        outputs = net(images)\n",
    "        _, predictions = torch.max(outputs, 1)\n",
    "        # collect the correct predictions for each class\n",
    "        for label, prediction in zip(labels, predictions):\n",
    "            if label == prediction:\n",
    "                correct_pred[classes[label]] += 1\n",
    "            total_pred[classes[label]] += 1\n",
    "\n",
    "\n",
    "# print accuracy for each class\n",
    "for classname, correct_count in correct_pred.items():\n",
    "    accuracy = 100 * float(correct_count) / total_pred[classname]\n",
    "    print(f'Accuracy for class: {classname:5s} is {accuracy:.1f} %')"
   ]
  }
 ],
 "metadata": {
  "kernelspec": {
   "display_name": "Python 3 (ipykernel)",
   "language": "python",
   "name": "python3"
  },
  "language_info": {
   "codemirror_mode": {
    "name": "ipython",
    "version": 3
   },
   "file_extension": ".py",
   "mimetype": "text/x-python",
   "name": "python",
   "nbconvert_exporter": "python",
   "pygments_lexer": "ipython3",
   "version": "3.10.8"
  }
 },
 "nbformat": 4,
 "nbformat_minor": 1
}
